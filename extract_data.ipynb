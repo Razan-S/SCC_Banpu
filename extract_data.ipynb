{
 "cells": [
  {
   "cell_type": "code",
   "execution_count": 35,
   "id": "81d2be3f",
   "metadata": {},
   "outputs": [],
   "source": [
    "import pandas as pd\n",
    "import os\n",
    "import sys\n",
    "import numpy as np"
   ]
  },
  {
   "cell_type": "code",
   "execution_count": 41,
   "id": "30d6fd25",
   "metadata": {},
   "outputs": [],
   "source": [
    "from dotenv import load_dotenv\n",
    "import os\n",
    "\n",
    "load_dotenv()\n",
    "\n",
    "employee_file = os.getenv('EMPLOYEE_DATA')\n",
    "personality_file = os.getenv('PERSONALILY_DATA')\n",
    "skills_file = os.getenv('SKILLS')"
   ]
  },
  {
   "cell_type": "code",
   "execution_count": 45,
   "id": "d52afc09",
   "metadata": {},
   "outputs": [],
   "source": [
    "def load_data(file_path):\n",
    "    if os.path.exists(file_path) and file_path.endswith('.csv'):\n",
    "        df = pd.read_csv(file_path)\n",
    "        return df\n",
    "    \n",
    "    return None"
   ]
  },
  {
   "cell_type": "code",
   "execution_count": 46,
   "id": "fc611b9e",
   "metadata": {},
   "outputs": [],
   "source": [
    "df_employee = load_data(employee_file)\n",
    "df_personality = load_data(personality_file)\n",
    "df_skills = load_data(skills_file)"
   ]
  },
  {
   "cell_type": "code",
   "execution_count": null,
   "id": "01435fab",
   "metadata": {},
   "outputs": [],
   "source": [
    "def ExtractSkills(df):\n",
    "    if df is not None:\n",
    "        skills = set()\n",
    "\n",
    "    return skills"
   ]
  }
 ],
 "metadata": {
  "kernelspec": {
   "display_name": "base",
   "language": "python",
   "name": "python3"
  },
  "language_info": {
   "codemirror_mode": {
    "name": "ipython",
    "version": 3
   },
   "file_extension": ".py",
   "mimetype": "text/x-python",
   "name": "python",
   "nbconvert_exporter": "python",
   "pygments_lexer": "ipython3",
   "version": "3.12.4"
  }
 },
 "nbformat": 4,
 "nbformat_minor": 5
}
